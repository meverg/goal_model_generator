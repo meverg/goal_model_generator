{
 "cells": [
  {
   "cell_type": "markdown",
   "metadata": {},
   "source": [
    "### Parse sentences as `<role>, <action>, <benefits>`"
   ]
  },
  {
   "cell_type": "code",
   "execution_count": 1,
   "metadata": {},
   "outputs": [
    {
     "name": "stdout",
     "output_type": "stream",
     "text": [
      "Couldn't parse:\n",
      " As a Publisher, I want to create a data package in the UI so that it is available and published.\n",
      "Couldn't parse:\n",
      " As a Publisher, I want to see real examples of published packages so that I can understand how useful and simple the datapackage format and the registry is.\n",
      "Couldn't parse:\n",
      " As a Data Analyst I want to download a data package, so that that I can study it and wrangle with it to infer new data or generate new insights.\n"
     ]
    }
   ],
   "source": [
    "import re\n",
    "import pprint\n",
    "\n",
    "class US:\n",
    "  def __init__(self, raw, role, action, benefit):\n",
    "    self.raw = raw \n",
    "    self.role = role\n",
    "    self.action = action\n",
    "    self.benefit = benefit\n",
    "    \n",
    "  def __repr__(self):\n",
    "    return str(self.__dict__)\n",
    "\n",
    "lines = []\n",
    "\n",
    "f = open(\"us.txt\", \"r\").read().splitlines()\n",
    "\n",
    "for x in f:\n",
    "  if x:\n",
    "    lines.append(x)\n",
    "\n",
    "user_stories = []\n",
    "\n",
    "for line in lines:\n",
    "  result = re.search('As (a|an) (.*), I want to (.*), (So that I|so I|So that|so that I|so that) (.*).', line)\n",
    "  if(not result):\n",
    "    print('Couldn\\'t parse:\\n', line)\n",
    "  else:\n",
    "    user_stories.append(US(line, result.group(2), result.group(3), result.group(5)))"
   ]
  },
  {
   "cell_type": "markdown",
   "metadata": {},
   "source": [
    "### Derive `concepts`"
   ]
  },
  {
   "cell_type": "code",
   "execution_count": 2,
   "metadata": {},
   "outputs": [],
   "source": [
    "import re  # For preprocessing\n",
    "import pandas as pd  # For data handling\n",
    "from time import time  # To time our operations\n",
    "from collections import defaultdict  # For word frequency\n",
    "\n",
    "import spacy  # For preprocessing\n",
    "\n",
    "import logging  # Setting up the loggings to monitor gensim\n",
    "logging.basicConfig(format=\"%(levelname)s - %(asctime)s: %(message)s\", datefmt= '%H:%M:%S', level=logging.INFO)"
   ]
  },
  {
   "cell_type": "code",
   "execution_count": 3,
   "metadata": {},
   "outputs": [],
   "source": [
    "df = pd.read_csv('us.txt', sep=\"\\n\", header=None)"
   ]
  },
  {
   "cell_type": "code",
   "execution_count": 4,
   "metadata": {},
   "outputs": [],
   "source": [
    "nlp = spacy.load('en', disable=['ner', 'parser'])\n",
    "spacy.lang.en.stop_words.STOP_WORDS.add('want')\n",
    "nlp.vocab['want'].is_stop = True\n",
    "\n",
    "def cleaning(doc):\n",
    "  for token in doc:\n",
    "    if 'data' == str(token):\n",
    "      print(token, token.lemma_, doc)\n",
    "  txt = [token.lemma_ for token in doc if not token.is_stop]\n",
    "  if len(txt) > 2:\n",
    "    return ' '.join(txt)"
   ]
  },
  {
   "cell_type": "code",
   "execution_count": 5,
   "metadata": {},
   "outputs": [],
   "source": [
    "brief_cleaning = (re.sub(\"[^A-Za-z']+\", ' ', str(row)).lower() for row in df[0])"
   ]
  },
  {
   "cell_type": "code",
   "execution_count": 6,
   "metadata": {},
   "outputs": [
    {
     "name": "stdout",
     "output_type": "stream",
     "text": [
      "data datum as a publisher i want to sign up for an account so that that i can publish my data package to the registry and to have a publisher account to publish my data package under \n",
      "data data as a publisher i want to sign up for an account so that that i can publish my data package to the registry and to have a publisher account to publish my data package under \n",
      "data datum as an admin i want to invite someone to join the platform so that that they can start contributing or using data \n",
      "data data as a publisher i want to import my data package into the registry so that my data has a permanent online home to access \n",
      "data datum as a publisher i want to import my data package into the registry so that my data has a permanent online home to access \n",
      "data datum as a publisher i want to configure my client so that i can start publishing data packages \n",
      "data data as a publisher i want to use a publish command to update a data package that is already in the registry so that it appears there \n",
      "data data as a publisher i want to unpublish a data package so that it is no longer visible to anyone \n",
      "data data as a publisher i want to permanently delete a data package so that that it no longer takes up storage space \n",
      "data datum as a publisher i want to validate the data i am about to publish to the registry so that that i publish good data and know that i am doing \n",
      "data datum as a publisher i want to validate the data i am about to publish to the registry so that that i publish good data and know that i am doing \n",
      "data datum as a publisher i want to data to be validated when i publish it so that that i know immediately if i have accidentally broken my data or have bugs and can take action to correct \n",
      "data datum as a publisher i want to data to be validated when i publish it so that that i know immediately if i have accidentally broken my data or have bugs and can take action to correct \n",
      "data datum as a consumer i want to know that the data i am downloading is good and can be relied on so that that i don't have to check it myself or run into annoying bugs later on \n",
      "data data as a publisher i want to publish a data package where its resource data is stored on my servers but the registry caches a copy of that data so that that if my data is lost or gets broken i still have a copy people can use \n",
      "data data as a publisher i want to publish a data package where its resource data is stored on my servers but the registry caches a copy of that data so that that if my data is lost or gets broken i still have a copy people can use \n",
      "data datum as a publisher i want to publish a data package where its resource data is stored on my servers but the registry caches a copy of that data so that that if my data is lost or gets broken i still have a copy people can use \n",
      "data data as a publisher i want to publish a data package where its resource data is stored on my servers but the registry caches a copy of that data so that that if my data is lost or gets broken i still have a copy people can use \n",
      "data datum as a consumer i want to be able to get the data for a data package even if the original data has been moved or removed so that that i can still use is and my app or analysis keeps working \n",
      "data data as a consumer i want to be able to get the data for a data package even if the original data has been moved or removed so that that i can still use is and my app or analysis keeps working \n",
      "data datum as a consumer i want to be able to get the data for a data package even if the original data has been moved or removed so that that i can still use is and my app or analysis keeps working \n",
      "data data as a publisher i want to publish a data package in the ui so that that it is available and published \n",
      "data data as a publisher i want to create a data package in the ui so that it is available and published \n",
      "data datum as a publisher i want to be able to restore the deleted data package via cli so that that it is back visible and available to view download \n",
      "data datum as a publisher i want to undelete the deleted data packages so that that the deleted data packages is now visible again \n",
      "data datum as a publisher i want to undelete the deleted data packages so that that the deleted data packages is now visible again \n",
      "data data as a publisher i want to be able to preview the views of the current data package using cli prior to publishing so that that i can refine the json declarations of datapackage view section to achieve a great looking result \n",
      "data data as a consumer i want to view a data package online so that i can get a sense of whether this is the dataset i want \n",
      "data data as a publisher i want to show the world how my published data is so that that it immediately catches consumer's attention \n",
      "data datum as a consumer i want to view the data package so that that i can get a sense of whether i want this dataset or not \n",
      "data datum as a consumer i want to see how much the data has been downloaded so that that i can choose most popular in the case when there are several alternatives for my use case \n",
      "data datum as a consumer i want to see some example data packages quickly so that i get a sense of what is on this site and if it is useful to look further \n",
      "data datum as a consumer i want to search data packages so that that i can find the ones i want \n",
      "data datum as a consumer i want to search based on description of data package so that that i can find package which related to some key words \n",
      "data datum as a consumer i want to download the data package in one file so that that i don't have to download descriptor and each resource by hand \n",
      "data datum as a developer i want to use data package as a node lib in my project so that that i can depend on it using my normal dependency framework \n",
      "data datum as a consumer i want to load a data package from r so that that i can immediately start playing with it \n",
      "data data as a data analyst i want to download a data package so that that i can study it and wrangle with it to infer new data or generate new insights \n",
      "data data as a data analyst i want to download a data package so that that i can study it and wrangle with it to infer new data or generate new insights \n",
      "data datum as a data analyst i want to download a data package so that that i can study it and wrangle with it to infer new data or generate new insights \n",
      "data data as a data analyst i want to update previously downloaded data package so that that i can work with the most recent data \n",
      "data datum as a data analyst i want to update previously downloaded data package so that that i can work with the most recent data \n",
      "data datum as a data analyst i want to update previously downloaded data package so that that i can work with the most recent data \n",
      "data data as a consumer i want to download a datapackage's data one coherent sqlite database so that that i can get it easily in one form \n",
      "data data as a data analyst i want to compare different versions of some datapackage locally so that that i can see schema changes clearly and adjust my analytics code to the desired schema version \n",
      "data datum as a publisher i want to tag datapackage to create a snapshot of data on the registry server so that that consumers can refer to it \n",
      "data datum as a publisher i want to be warned that a tag exists when i try to overwrite it so that that i don't accidentally overwrite stable tagged data which is relied on by consumers \n",
      "data datum as a publisher i want to version my data package and keep multiple versions around including older versions so that that i do not break consumer systems when i change my datapackage \n",
      "data datum as a consumer i want to know full details of how the data package schema has changed so that that i can adjust my scripts to handle it \n",
      "data data as a consumer i want to view a datapackage at a particular version online so that that i can present discuss the particular data timeslice of interest with other people \n",
      "data data as a consumer i want to download a data package at a particular version so that that i know it is compatible with my scripts and system \n",
      "data datum as a consumer i want to search among all data packages owned by a publisher so that that i can easily find one data package amongst all the data packages by this publisher \n",
      "data datum as a consumer i want to search among all data packages owned by a publisher so that that i can easily find one data package amongst all the data packages by this publisher \n",
      "data datum as a consumer i want to search among all data packages owned by a publisher so that that i can easily find one data package amongst all the data packages by this publisher \n",
      "data datum as an owner i want to invite someone using their email to sign up and become a member of my publisher so that that they are authorized to publish data packages under my publisher \n",
      "data datum as an owner i want to remove someone from membership in my publisher so that they no longer have ability to publish or modify my data packages \n",
      "data datum as a publisher i want to have private data packages so that i can share just with my team \n",
      "Time to clean up everything: 0.0 mins\n"
     ]
    }
   ],
   "source": [
    "t = time()\n",
    "\n",
    "txt = [cleaning(doc) for doc in nlp.pipe(brief_cleaning, batch_size=10, n_threads=1)]\n",
    "\n",
    "print('Time to clean up everything: {} mins'.format(round((time() - t) / 60, 2)))"
   ]
  },
  {
   "cell_type": "code",
   "execution_count": 7,
   "metadata": {},
   "outputs": [
    {
     "data": {
      "text/plain": [
       "(67, 1)"
      ]
     },
     "execution_count": 7,
     "metadata": {},
     "output_type": "execute_result"
    }
   ],
   "source": [
    "df_clean = pd.DataFrame({'clean': txt})\n",
    "df_clean = df_clean.dropna().drop_duplicates()\n",
    "df_clean.shape"
   ]
  },
  {
   "cell_type": "code",
   "execution_count": 8,
   "metadata": {},
   "outputs": [
    {
     "name": "stderr",
     "output_type": "stream",
     "text": [
      "INFO - 17:52:38: 'pattern' package not found; tag filters are not available for English\n"
     ]
    }
   ],
   "source": [
    "from gensim.models.phrases import Phrases, Phraser"
   ]
  },
  {
   "cell_type": "code",
   "execution_count": 9,
   "metadata": {},
   "outputs": [],
   "source": [
    "sent = [row.split() for row in df_clean['clean']]"
   ]
  },
  {
   "cell_type": "code",
   "execution_count": 10,
   "metadata": {},
   "outputs": [
    {
     "name": "stderr",
     "output_type": "stream",
     "text": [
      "INFO - 17:52:38: collecting all words and their counts\n",
      "INFO - 17:52:38: PROGRESS: at sentence #0, processed 0 words and 0 word types\n",
      "INFO - 17:52:38: collected 743 word types from a corpus of 652 words (unigram + bigrams) and 67 sentences\n",
      "INFO - 17:52:38: using 743 counts as vocab in Phrases<0 vocab, min_count=2, threshold=3, max_vocab_size=40000000>\n"
     ]
    }
   ],
   "source": [
    "phrases = Phrases(sent, min_count = 2, threshold = 3)"
   ]
  },
  {
   "cell_type": "code",
   "execution_count": 11,
   "metadata": {},
   "outputs": [
    {
     "name": "stderr",
     "output_type": "stream",
     "text": [
      "INFO - 17:52:38: source_vocab length 743\n",
      "INFO - 17:52:38: Phraser built with 11 phrasegrams\n"
     ]
    }
   ],
   "source": [
    "bigram = Phraser(phrases)"
   ]
  },
  {
   "cell_type": "code",
   "execution_count": 12,
   "metadata": {},
   "outputs": [],
   "source": [
    "sentences = bigram[sent]"
   ]
  },
  {
   "cell_type": "code",
   "execution_count": 13,
   "metadata": {},
   "outputs": [
    {
     "data": {
      "text/plain": [
       "257"
      ]
     },
     "execution_count": 13,
     "metadata": {},
     "output_type": "execute_result"
    }
   ],
   "source": [
    "word_freq = defaultdict(int)\n",
    "for senti in sentences:\n",
    "  for i in senti:\n",
    "    word_freq[i] += 1\n",
    "len(word_freq)"
   ]
  },
  {
   "cell_type": "code",
   "execution_count": 14,
   "metadata": {},
   "outputs": [
    {
     "data": {
      "text/plain": [
       "['publisher',\n",
       " 'datum_package',\n",
       " 'consumer',\n",
       " 'datum',\n",
       " 'publish',\n",
       " 'package',\n",
       " 'download',\n",
       " 'datapackage',\n",
       " 'data_package',\n",
       " 'owner']"
      ]
     },
     "execution_count": 14,
     "metadata": {},
     "output_type": "execute_result"
    }
   ],
   "source": [
    "sorted(word_freq, key = word_freq.get, reverse = True)[:10]"
   ]
  }
 ],
 "metadata": {
  "kernelspec": {
   "display_name": "Python 3",
   "language": "python",
   "name": "python3"
  },
  "language_info": {
   "codemirror_mode": {
    "name": "ipython",
    "version": 3
   },
   "file_extension": ".py",
   "mimetype": "text/x-python",
   "name": "python",
   "nbconvert_exporter": "python",
   "pygments_lexer": "ipython3",
   "version": "3.7.1"
  }
 },
 "nbformat": 4,
 "nbformat_minor": 2
}
